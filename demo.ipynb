{
 "cells": [
  {
   "cell_type": "code",
   "execution_count": 4,
   "metadata": {},
   "outputs": [
    {
     "name": "stdout",
     "output_type": "stream",
     "text": [
      "Julia Version 1.2.0\n",
      "Commit c6da87ff4b (2019-08-20 00:03 UTC)\n",
      "Platform Info:\n",
      "  OS: macOS (x86_64-apple-darwin18.6.0)\n",
      "  CPU: Intel(R) Core(TM) i7-4770HQ CPU @ 2.20GHz\n",
      "  WORD_SIZE: 64\n",
      "  LIBM: libopenlibm\n",
      "  LLVM: libLLVM-6.0.1 (ORCJIT, haswell)\n"
     ]
    }
   ],
   "source": [
    "# MacBook Pro\n",
    "versioninfo()"
   ]
  },
  {
   "cell_type": "code",
   "execution_count": 51,
   "metadata": {},
   "outputs": [
    {
     "name": "stdout",
     "output_type": "stream",
     "text": [
      "\u001b[32m\u001b[1m Resolving\u001b[22m\u001b[39m package versions...\n",
      "\u001b[32m\u001b[1m  Updating\u001b[22m\u001b[39m `~/.julia/environments/v1.2/Project.toml`\n",
      " \u001b[90m [1313f7d8]\u001b[39m\u001b[92m + DataFramesMeta v0.5.0\u001b[39m\n",
      "\u001b[32m\u001b[1m  Updating\u001b[22m\u001b[39m `~/.julia/environments/v1.2/Manifest.toml`\n",
      " \u001b[90m [1313f7d8]\u001b[39m\u001b[92m + DataFramesMeta v0.5.0\u001b[39m\n"
     ]
    }
   ],
   "source": [
    "] add RData XLSX DataFramesMeta"
   ]
  },
  {
   "cell_type": "code",
   "execution_count": 187,
   "metadata": {},
   "outputs": [
    {
     "data": {
      "text/plain": [
       "Dict{String,Any} with 1 entry:\n",
       "  \"friends\" => 1200×1 DataFrame…"
      ]
     },
     "execution_count": 187,
     "metadata": {},
     "output_type": "execute_result"
    }
   ],
   "source": [
    "using RData\n",
    "friends = load(\"friends.rdata\")"
   ]
  },
  {
   "cell_type": "code",
   "execution_count": 53,
   "metadata": {},
   "outputs": [
    {
     "data": {
      "text/plain": [
       "Dict{String,Any}"
      ]
     },
     "execution_count": 53,
     "metadata": {},
     "output_type": "execute_result"
    }
   ],
   "source": [
    "typeof(friends)"
   ]
  },
  {
   "cell_type": "code",
   "execution_count": 54,
   "metadata": {},
   "outputs": [
    {
     "data": {
      "text/plain": [
       "Pair{String,Any}(\"friends\", 1200×1 DataFrame\n",
       "│ Row  │ Friends       │\n",
       "│      │ \u001b[90mCategorical…\u001b[39m  │\n",
       "├──────┼───────────────┤\n",
       "│ 1    │ No difference │\n",
       "│ 2    │ No difference │\n",
       "│ 3    │ No difference │\n",
       "│ 4    │ No difference │\n",
       "│ 5    │ No difference │\n",
       "│ 6    │ No difference │\n",
       "│ 7    │ No difference │\n",
       "│ 8    │ No difference │\n",
       "│ 9    │ No difference │\n",
       "│ 10   │ No difference │\n",
       "⋮\n",
       "│ 1190 │ Same sex      │\n",
       "│ 1191 │ Same sex      │\n",
       "│ 1192 │ Same sex      │\n",
       "│ 1193 │ Same sex      │\n",
       "│ 1194 │ Same sex      │\n",
       "│ 1195 │ Same sex      │\n",
       "│ 1196 │ Same sex      │\n",
       "│ 1197 │ Same sex      │\n",
       "│ 1198 │ Same sex      │\n",
       "│ 1199 │ Same sex      │\n",
       "│ 1200 │ Same sex      │)"
      ]
     },
     "execution_count": 54,
     "metadata": {},
     "output_type": "execute_result"
    }
   ],
   "source": [
    "first(friends)"
   ]
  },
  {
   "cell_type": "code",
   "execution_count": 166,
   "metadata": {},
   "outputs": [
    {
     "data": {
      "text/html": [
       "<table class=\"data-frame\"><thead><tr><th></th><th>Friends</th></tr><tr><th></th><th>Categorical…</th></tr></thead><tbody><p>5 rows × 1 columns</p><tr><th>1</th><td>No difference</td></tr><tr><th>2</th><td>No difference</td></tr><tr><th>3</th><td>No difference</td></tr><tr><th>4</th><td>No difference</td></tr><tr><th>5</th><td>No difference</td></tr></tbody></table>"
      ],
      "text/latex": [
       "\\begin{tabular}{r|c}\n",
       "\t& Friends\\\\\n",
       "\t\\hline\n",
       "\t& Categorical…\\\\\n",
       "\t\\hline\n",
       "\t1 & No difference \\\\\n",
       "\t2 & No difference \\\\\n",
       "\t3 & No difference \\\\\n",
       "\t4 & No difference \\\\\n",
       "\t5 & No difference \\\\\n",
       "\\end{tabular}\n"
      ],
      "text/plain": [
       "5×1 DataFrame\n",
       "│ Row │ Friends       │\n",
       "│     │ \u001b[90mCategorical…\u001b[39m  │\n",
       "├─────┼───────────────┤\n",
       "│ 1   │ No difference │\n",
       "│ 2   │ No difference │\n",
       "│ 3   │ No difference │\n",
       "│ 4   │ No difference │\n",
       "│ 5   │ No difference │"
      ]
     },
     "execution_count": 166,
     "metadata": {},
     "output_type": "execute_result"
    }
   ],
   "source": [
    "using DataFrames, DataFramesMeta\n",
    "df = DataFrame(friends[\"friends\"])\n",
    "first(df,5)"
   ]
  },
  {
   "cell_type": "code",
   "execution_count": 182,
   "metadata": {},
   "outputs": [
    {
     "data": {
      "text/html": [
       "<table class=\"data-frame\"><thead><tr><th></th><th>Friends</th><th>x1</th></tr><tr><th></th><th>Categorical…</th><th>Int64</th></tr></thead><tbody><p>3 rows × 2 columns</p><tr><th>1</th><td>No difference</td><td>602</td></tr><tr><th>2</th><td>Opposite sex</td><td>434</td></tr><tr><th>3</th><td>Same sex</td><td>164</td></tr></tbody></table>"
      ],
      "text/latex": [
       "\\begin{tabular}{r|cc}\n",
       "\t& Friends & x1\\\\\n",
       "\t\\hline\n",
       "\t& Categorical… & Int64\\\\\n",
       "\t\\hline\n",
       "\t1 & No difference & 602 \\\\\n",
       "\t2 & Opposite sex & 434 \\\\\n",
       "\t3 & Same sex & 164 \\\\\n",
       "\\end{tabular}\n"
      ],
      "text/plain": [
       "3×2 DataFrame\n",
       "│ Row │ Friends       │ x1    │\n",
       "│     │ \u001b[90mCategorical…\u001b[39m  │ \u001b[90mInt64\u001b[39m │\n",
       "├─────┼───────────────┼───────┤\n",
       "│ 1   │ No difference │ 602   │\n",
       "│ 2   │ Opposite sex  │ 434   │\n",
       "│ 3   │ Same sex      │ 164   │"
      ]
     },
     "execution_count": 182,
     "metadata": {},
     "output_type": "execute_result"
    }
   ],
   "source": [
    "newdf = by(df, :Friends, nrow)"
   ]
  },
  {
   "cell_type": "code",
   "execution_count": 183,
   "metadata": {},
   "outputs": [
    {
     "data": {
      "text/html": [
       "<table class=\"data-frame\"><thead><tr><th></th><th>Friends</th><th>Freq</th></tr><tr><th></th><th>Categorical…</th><th>Int64</th></tr></thead><tbody><p>3 rows × 2 columns</p><tr><th>1</th><td>No difference</td><td>602</td></tr><tr><th>2</th><td>Opposite sex</td><td>434</td></tr><tr><th>3</th><td>Same sex</td><td>164</td></tr></tbody></table>"
      ],
      "text/latex": [
       "\\begin{tabular}{r|cc}\n",
       "\t& Friends & Freq\\\\\n",
       "\t\\hline\n",
       "\t& Categorical… & Int64\\\\\n",
       "\t\\hline\n",
       "\t1 & No difference & 602 \\\\\n",
       "\t2 & Opposite sex & 434 \\\\\n",
       "\t3 & Same sex & 164 \\\\\n",
       "\\end{tabular}\n"
      ],
      "text/plain": [
       "3×2 DataFrame\n",
       "│ Row │ Friends       │ Freq  │\n",
       "│     │ \u001b[90mCategorical…\u001b[39m  │ \u001b[90mInt64\u001b[39m │\n",
       "├─────┼───────────────┼───────┤\n",
       "│ 1   │ No difference │ 602   │\n",
       "│ 2   │ Opposite sex  │ 434   │\n",
       "│ 3   │ Same sex      │ 164   │"
      ]
     },
     "execution_count": 183,
     "metadata": {},
     "output_type": "execute_result"
    }
   ],
   "source": [
    "names!(newdf, [:Friends, :Freq])"
   ]
  },
  {
   "cell_type": "code",
   "execution_count": 184,
   "metadata": {},
   "outputs": [
    {
     "data": {
      "text/html": [
       "<table class=\"data-frame\"><thead><tr><th></th><th>Friends</th><th>Freq</th><th>x1</th></tr><tr><th></th><th>Categorical…</th><th>Int64</th><th>Float64</th></tr></thead><tbody><p>3 rows × 3 columns</p><tr><th>1</th><td>No difference</td><td>602</td><td>50.1667</td></tr><tr><th>2</th><td>Opposite sex</td><td>434</td><td>36.1667</td></tr><tr><th>3</th><td>Same sex</td><td>164</td><td>13.6667</td></tr></tbody></table>"
      ],
      "text/latex": [
       "\\begin{tabular}{r|ccc}\n",
       "\t& Friends & Freq & x1\\\\\n",
       "\t\\hline\n",
       "\t& Categorical… & Int64 & Float64\\\\\n",
       "\t\\hline\n",
       "\t1 & No difference & 602 & 50.1667 \\\\\n",
       "\t2 & Opposite sex & 434 & 36.1667 \\\\\n",
       "\t3 & Same sex & 164 & 13.6667 \\\\\n",
       "\\end{tabular}\n"
      ],
      "text/plain": [
       "3×3 DataFrame\n",
       "│ Row │ Friends       │ Freq  │ x1      │\n",
       "│     │ \u001b[90mCategorical…\u001b[39m  │ \u001b[90mInt64\u001b[39m │ \u001b[90mFloat64\u001b[39m │\n",
       "├─────┼───────────────┼───────┼─────────┤\n",
       "│ 1   │ No difference │ 602   │ 50.1667 │\n",
       "│ 2   │ Opposite sex  │ 434   │ 36.1667 │\n",
       "│ 3   │ Same sex      │ 164   │ 13.6667 │"
      ]
     },
     "execution_count": 184,
     "metadata": {},
     "output_type": "execute_result"
    }
   ],
   "source": [
    "by(newdf, [:Friends, :Freq], \n",
    "    d -> (Prop = d.Freq/1200*100))"
   ]
  },
  {
   "cell_type": "code",
   "execution_count": 185,
   "metadata": {},
   "outputs": [
    {
     "data": {
      "image/png": "[encoded data removed]"
     },
     "execution_count": 185,
     "metadata": {},
     "output_type": "execute_result"
    }
   ],
   "source": [
    "using StatsPlots\n",
    "pyplot()\n",
    "@df newdf pie(:Friends, :Freq)"
   ]
  },
  {
   "cell_type": "code",
   "execution_count": 189,
   "metadata": {},
   "outputs": [
    {
     "data": {
      "text/plain": [
       "RObject{IntSxp}\n",
       "\n",
       "No difference  Opposite sex      Same sex \n",
       "          602           434           164 \n"
      ]
     },
     "execution_count": 189,
     "metadata": {},
     "output_type": "execute_result"
    }
   ],
   "source": [
    "using RCall\n",
    "R\"\"\"\n",
    "load(\"friends.rdata\")\n",
    "t = table(friends$Friends); t\n",
    "\"\"\""
   ]
  },
  {
   "cell_type": "code",
   "execution_count": 254,
   "metadata": {},
   "outputs": [
    {
     "data": {
      "text/html": [
       "<table class=\"data-frame\"><thead><tr><th></th><th>Friends</th><th>x1</th></tr><tr><th></th><th>String</th><th>Int64</th></tr></thead><tbody><p>3 rows × 2 columns</p><tr><th>1</th><td>Opposite sex</td><td>434</td></tr><tr><th>2</th><td>No difference</td><td>602</td></tr><tr><th>3</th><td>Same sex</td><td>164</td></tr></tbody></table>"
      ],
      "text/latex": [
       "\\begin{tabular}{r|cc}\n",
       "\t& Friends & x1\\\\\n",
       "\t\\hline\n",
       "\t& String & Int64\\\\\n",
       "\t\\hline\n",
       "\t1 & Opposite sex & 434 \\\\\n",
       "\t2 & No difference & 602 \\\\\n",
       "\t3 & Same sex & 164 \\\\\n",
       "\\end{tabular}\n"
      ],
      "text/plain": [
       "3×2 DataFrame\n",
       "│ Row │ Friends       │ x1    │\n",
       "│     │ \u001b[90mString\u001b[39m        │ \u001b[90mInt64\u001b[39m │\n",
       "├─────┼───────────────┼───────┤\n",
       "│ 1   │ Opposite sex  │ 434   │\n",
       "│ 2   │ No difference │ 602   │\n",
       "│ 3   │ Same sex      │ 164   │"
      ]
     },
     "execution_count": 254,
     "metadata": {},
     "output_type": "execute_result"
    }
   ],
   "source": [
    "using ExcelFiles\n",
    "friends = load(\"friends.xlsx\", \"Sheet1\") |> DataFrame\n",
    "tj = by(friends, :Friends, nrow)"
   ]
  },
  {
   "cell_type": "code",
   "execution_count": 255,
   "metadata": {},
   "outputs": [
    {
     "data": {
      "text/plain": [
       "RObject{RealSxp}\n",
       "\n",
       "No difference  Opposite sex      Same sex \n",
       "    0.5016667     0.3616667     0.1366667 \n"
      ]
     },
     "execution_count": 255,
     "metadata": {},
     "output_type": "execute_result"
    }
   ],
   "source": [
    "R\"prop = prop.table(t);prop\""
   ]
  },
  {
   "cell_type": "code",
   "execution_count": 260,
   "metadata": {},
   "outputs": [
    {
     "data": {
      "text/html": [
       "<table class=\"data-frame\"><thead><tr><th></th><th>Friends</th><th>x1</th><th>x1_1</th></tr><tr><th></th><th>String</th><th>Int64</th><th>Float64</th></tr></thead><tbody><p>3 rows × 3 columns</p><tr><th>1</th><td>Opposite sex</td><td>434</td><td>0.361667</td></tr><tr><th>2</th><td>No difference</td><td>602</td><td>0.501667</td></tr><tr><th>3</th><td>Same sex</td><td>164</td><td>0.136667</td></tr></tbody></table>"
      ],
      "text/latex": [
       "\\begin{tabular}{r|ccc}\n",
       "\t& Friends & x1 & x1\\_1\\\\\n",
       "\t\\hline\n",
       "\t& String & Int64 & Float64\\\\\n",
       "\t\\hline\n",
       "\t1 & Opposite sex & 434 & 0.361667 \\\\\n",
       "\t2 & No difference & 602 & 0.501667 \\\\\n",
       "\t3 & Same sex & 164 & 0.136667 \\\\\n",
       "\\end{tabular}\n"
      ],
      "text/plain": [
       "3×3 DataFrame\n",
       "│ Row │ Friends       │ x1    │ x1_1     │\n",
       "│     │ \u001b[90mString\u001b[39m        │ \u001b[90mInt64\u001b[39m │ \u001b[90mFloat64\u001b[39m  │\n",
       "├─────┼───────────────┼───────┼──────────┤\n",
       "│ 1   │ Opposite sex  │ 434   │ 0.361667 │\n",
       "│ 2   │ No difference │ 602   │ 0.501667 │\n",
       "│ 3   │ Same sex      │ 164   │ 0.136667 │"
      ]
     },
     "execution_count": 260,
     "metadata": {},
     "output_type": "execute_result"
    }
   ],
   "source": [
    "propj = by(tj, [:Friends, :x1], d -> d.x1/size(friends,1))"
   ]
  },
  {
   "cell_type": "code",
   "execution_count": 263,
   "metadata": {},
   "outputs": [
    {
     "data": {
      "text/plain": [
       "RObject{RealSxp}\n",
       "\n",
       "No difference  Opposite sex      Same sex \n",
       "     50.16667      36.16667      13.66667 \n"
      ]
     },
     "execution_count": 263,
     "metadata": {},
     "output_type": "execute_result"
    }
   ],
   "source": [
    "R\"percent=prop.table(t)*100;percent\""
   ]
  },
  {
   "cell_type": "code",
   "execution_count": 264,
   "metadata": {},
   "outputs": [
    {
     "data": {
      "text/html": [
       "<table class=\"data-frame\"><thead><tr><th></th><th>Friends</th><th>x1</th><th>x1_1</th></tr><tr><th></th><th>String</th><th>Int64</th><th>Float64</th></tr></thead><tbody><p>3 rows × 3 columns</p><tr><th>1</th><td>Opposite sex</td><td>434</td><td>36.1667</td></tr><tr><th>2</th><td>No difference</td><td>602</td><td>50.1667</td></tr><tr><th>3</th><td>Same sex</td><td>164</td><td>13.6667</td></tr></tbody></table>"
      ],
      "text/latex": [
       "\\begin{tabular}{r|ccc}\n",
       "\t& Friends & x1 & x1\\_1\\\\\n",
       "\t\\hline\n",
       "\t& String & Int64 & Float64\\\\\n",
       "\t\\hline\n",
       "\t1 & Opposite sex & 434 & 36.1667 \\\\\n",
       "\t2 & No difference & 602 & 50.1667 \\\\\n",
       "\t3 & Same sex & 164 & 13.6667 \\\\\n",
       "\\end{tabular}\n"
      ],
      "text/plain": [
       "3×3 DataFrame\n",
       "│ Row │ Friends       │ x1    │ x1_1    │\n",
       "│     │ \u001b[90mString\u001b[39m        │ \u001b[90mInt64\u001b[39m │ \u001b[90mFloat64\u001b[39m │\n",
       "├─────┼───────────────┼───────┼─────────┤\n",
       "│ 1   │ Opposite sex  │ 434   │ 36.1667 │\n",
       "│ 2   │ No difference │ 602   │ 50.1667 │\n",
       "│ 3   │ Same sex      │ 164   │ 13.6667 │"
      ]
     },
     "execution_count": 264,
     "metadata": {},
     "output_type": "execute_result"
    }
   ],
   "source": [
    "percentj = by(tj, [:Friends, :x1], d -> d.x1/size(friends,1)*100)"
   ]
  },
  {
   "cell_type": "code",
   "execution_count": 266,
   "metadata": {},
   "outputs": [
    {
     "data": {
      "image/png": "[encoded data removed]"
     },
     "metadata": {},
     "output_type": "display_data"
    },
    {
     "data": {
      "text/plain": [
       "RObject{NilSxp}\n",
       "NULL\n"
      ]
     },
     "execution_count": 266,
     "metadata": {},
     "output_type": "execute_result"
    }
   ],
   "source": [
    "R\"\"\"\n",
    "lbl = paste(c(\"No difference\",\"Opposite sex\",\"Same sex\"),pf,\"%\",sep=\" \");\n",
    "pie(t)\n",
    "\"\"\""
   ]
  },
  {
   "cell_type": "code",
   "execution_count": 267,
   "metadata": {},
   "outputs": [
    {
     "data": {
      "image/png": "[encoded data removed]"
     },
     "execution_count": 267,
     "metadata": {},
     "output_type": "execute_result"
    }
   ],
   "source": [
    "using StatsPlots\n",
    "@df percentj pie(:Friends, :x1_1)"
   ]
  },
  {
   "cell_type": "code",
   "execution_count": null,
   "metadata": {},
   "outputs": [],
   "source": []
  }
 ],
 "metadata": {
  "kernelspec": {
   "display_name": "Julia 1.2.0",
   "language": "julia",
   "name": "julia-1.2"
  },
  "language_info": {
   "file_extension": ".jl",
   "mimetype": "application/julia",
   "name": "julia",
   "version": "1.2.0"
  }
 },
 "nbformat": 4,
 "nbformat_minor": 2
}
